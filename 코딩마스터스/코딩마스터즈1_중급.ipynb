{
 "cells": [
  {
   "cell_type": "code",
   "execution_count": 2,
   "metadata": {},
   "outputs": [
    {
     "ename": "KeyboardInterrupt",
     "evalue": "",
     "output_type": "error",
     "traceback": [
      "\u001b[1;31m---------------------------------------------------------------------------\u001b[0m",
      "\u001b[1;31mKeyboardInterrupt\u001b[0m                         Traceback (most recent call last)",
      "\u001b[1;32m~\\AppData\\Local\\Temp\\ipykernel_14412\\906360560.py\u001b[0m in \u001b[0;36m<module>\u001b[1;34m\u001b[0m\n\u001b[0;32m     35\u001b[0m \u001b[1;32mwhile\u001b[0m \u001b[0mlen\u001b[0m\u001b[1;33m(\u001b[0m\u001b[0mpath\u001b[0m\u001b[1;33m)\u001b[0m \u001b[1;33m<\u001b[0m \u001b[0mn\u001b[0m\u001b[1;33m:\u001b[0m\u001b[1;33m\u001b[0m\u001b[1;33m\u001b[0m\u001b[0m\n\u001b[0;32m     36\u001b[0m     \u001b[1;32mfor\u001b[0m \u001b[0mdest\u001b[0m\u001b[1;33m,\u001b[0m \u001b[0mweight\u001b[0m \u001b[1;32min\u001b[0m \u001b[0medges\u001b[0m\u001b[1;33m[\u001b[0m\u001b[0mpath\u001b[0m\u001b[1;33m[\u001b[0m\u001b[1;33m-\u001b[0m\u001b[1;36m1\u001b[0m\u001b[1;33m]\u001b[0m\u001b[1;33m]\u001b[0m\u001b[1;33m:\u001b[0m\u001b[1;33m\u001b[0m\u001b[1;33m\u001b[0m\u001b[0m\n\u001b[1;32m---> 37\u001b[1;33m         \u001b[1;32mif\u001b[0m \u001b[1;32mnot\u001b[0m \u001b[0mvisited\u001b[0m\u001b[1;33m[\u001b[0m\u001b[0mdest\u001b[0m\u001b[1;33m]\u001b[0m\u001b[1;33m:\u001b[0m\u001b[1;33m\u001b[0m\u001b[1;33m\u001b[0m\u001b[0m\n\u001b[0m\u001b[0;32m     38\u001b[0m             \u001b[0mpath\u001b[0m\u001b[1;33m.\u001b[0m\u001b[0mappend\u001b[0m\u001b[1;33m(\u001b[0m\u001b[0mdest\u001b[0m\u001b[1;33m)\u001b[0m\u001b[1;33m\u001b[0m\u001b[1;33m\u001b[0m\u001b[0m\n\u001b[0;32m     39\u001b[0m             \u001b[0mvisited\u001b[0m\u001b[1;33m[\u001b[0m\u001b[0mdest\u001b[0m\u001b[1;33m]\u001b[0m \u001b[1;33m=\u001b[0m \u001b[1;32mTrue\u001b[0m\u001b[1;33m\u001b[0m\u001b[1;33m\u001b[0m\u001b[0m\n",
      "\u001b[1;31mKeyboardInterrupt\u001b[0m: "
     ]
    }
   ],
   "source": [
    "#1\n",
    "import sys\n",
    "import heapq\n",
    "\n",
    "# 입력 받기\n",
    "n, m = map(int, input().split())\n",
    "\n",
    "# 간선 리스트 초기화\n",
    "edges = [[] for _ in range(n+1)]\n",
    "\n",
    "# 간선 추가\n",
    "for _ in range(m):\n",
    "    a, b, c = map(int, input().split())\n",
    "    edges[a].append((b, c))\n",
    "    edges[b].append((a, c))\n",
    "\n",
    "# 프림 알고리즘으로 최소 신장 트리 구하기\n",
    "visited = [False] * (n+1)\n",
    "heap = [(0, 1)]  # (비용, 정점) 튜플\n",
    "total_cost = 0\n",
    "while heap:\n",
    "    cost, node = heapq.heappop(heap)\n",
    "    if visited[node]:\n",
    "        continue\n",
    "    visited[node] = True\n",
    "    total_cost += cost\n",
    "    for dest, weight in edges[node]:\n",
    "        if not visited[dest]:\n",
    "            heapq.heappush(heap, (weight, dest))\n",
    "\n",
    "# 최소 신장 트리 순회 경로 계산\n",
    "path = [1]\n",
    "visited = [False] * (n+1)\n",
    "visited[1] = True\n",
    "while len(path) < n:\n",
    "    for dest, weight in edges[path[-1]]:\n",
    "        if not visited[dest]:\n",
    "            path.append(dest)\n",
    "            visited[dest] = True\n",
    "            break\n",
    "path.append(1)  # 출발지로 돌아가기\n",
    "\n",
    "# 결과 출력\n",
    "print(total_cost)"
   ]
  },
  {
   "cell_type": "code",
   "execution_count": 10,
   "metadata": {},
   "outputs": [
    {
     "name": "stdout",
     "output_type": "stream",
     "text": [
      "[0, 0, 0]\n",
      "[0]\n",
      "[1, 1]\n",
      "[2]\n",
      "[0, 0, 0]\n"
     ]
    },
    {
     "data": {
      "text/plain": [
       "[1, 5]"
      ]
     },
     "execution_count": 10,
     "metadata": {},
     "output_type": "execute_result"
    }
   ],
   "source": [
    "#2\n",
    "n = int(input())\n",
    "x = []\n",
    "for i in range(n):\n",
    "    x.append(int(input()))\n",
    "ans = []    \n",
    "for i in range(1,min(x)+1):\n",
    "    k = []\n",
    "    k.append(x[0]%i)\n",
    "    for j in x[1:]:\n",
    "        if j % i == k[-1]:\n",
    "            k.append(j%i)\n",
    "        if len(k) == n:\n",
    "            ans.append(i)\n",
    "       \n",
    "        \n",
    "print(*ans)\n",
    "        \n",
    "        \n",
    "        "
   ]
  },
  {
   "cell_type": "code",
   "execution_count": 7,
   "metadata": {},
   "outputs": [
    {
     "name": "stdout",
     "output_type": "stream",
     "text": [
      "0\n",
      "0\n"
     ]
    }
   ],
   "source": [
    "#3\n",
    "\n"
   ]
  },
  {
   "cell_type": "code",
   "execution_count": 9,
   "metadata": {},
   "outputs": [
    {
     "name": "stdout",
     "output_type": "stream",
     "text": [
      "1\n"
     ]
    }
   ],
   "source": [
    "#4\n"
   ]
  },
  {
   "cell_type": "code",
   "execution_count": 10,
   "metadata": {},
   "outputs": [
    {
     "name": "stdout",
     "output_type": "stream",
     "text": [
      "7\n"
     ]
    }
   ],
   "source": [
    "#5\n"
   ]
  },
  {
   "cell_type": "code",
   "execution_count": 24,
   "metadata": {},
   "outputs": [
    {
     "name": "stdout",
     "output_type": "stream",
     "text": [
      "1\n"
     ]
    }
   ],
   "source": [
    "#6\n",
    "def is_bipartite(adj_list, V):\n",
    "    colors = [-1] * V  # -1: uncolored, 0: color 1, 1: color 2\n",
    "    for i in range(V):\n",
    "        if colors[i] == -1:\n",
    "            stack = [i]\n",
    "            colors[i] = 0\n",
    "            while stack:\n",
    "                u = stack.pop()\n",
    "                for v in adj_list[u]:\n",
    "                    if colors[v] == -1:\n",
    "                        colors[v] = 1 - colors[u]\n",
    "                        stack.append(v)\n",
    "                    elif colors[v] == colors[u]:\n",
    "                        return False\n",
    "    return True\n",
    "\n",
    "\n",
    "V, E = map(int, input().split())\n",
    "adj_list = [[] for _ in range(V)]\n",
    "for _ in range(E):\n",
    "    u, v = map(int, input().split())\n",
    "    adj_list[u-1].append(v-1)\n",
    "    adj_list[v-1].append(u-1)\n",
    "\n",
    "if is_bipartite(adj_list, V):\n",
    "    print(1)\n",
    "else:\n",
    "    print(0)"
   ]
  },
  {
   "cell_type": "code",
   "execution_count": null,
   "metadata": {},
   "outputs": [],
   "source": [
    "#7\n",
    "n, m = map(int, input().split())\n",
    "\n",
    "grid = []\n",
    "for i in range(n):\n",
    "    row = list(map(int, input().split()))\n",
    "    grid.append(row)\n",
    "\n",
    "max_area = 0\n",
    "\n",
    "for i in range(n):\n",
    "    for j in range(m):\n",
    "        for k in range(1, min(n-i, m-j)):\n",
    "            # 좌상, 우상, 좌하, 우하의 좌표\n",
    "            x1, y1 = i, j\n",
    "            x2, y2 = i, j+k\n",
    "            x3, y3 = i+k, j\n",
    "            x4, y4 = i+k, j+k\n",
    "\n",
    "            # 모든 좌표가 서로 다르고, 좋아하는 수가 모두 같은 경우\n",
    "            if len(set([grid[x1][y1], grid[x2][y2], grid[x3][y3], grid[x4][y4]])) == 1:\n",
    "                area = (k+1) * (k+1)\n",
    "                max_area = max(max_area, area)\n",
    "\n",
    "print(max_area)"
   ]
  },
  {
   "cell_type": "code",
   "execution_count": null,
   "metadata": {},
   "outputs": [],
   "source": [
    "#8"
   ]
  },
  {
   "cell_type": "code",
   "execution_count": 13,
   "metadata": {},
   "outputs": [
    {
     "name": "stdout",
     "output_type": "stream",
     "text": [
      "2\n",
      "2\n"
     ]
    }
   ],
   "source": [
    "#9\n",
    "import itertools\n",
    "\n",
    "# 입력 받기\n",
    "N = int(input())\n",
    "S = [list(map(int, input().split())) for _ in range(N)]\n",
    "\n",
    "# 모든 조합 생성\n",
    "combs = itertools.combinations(range(N), N//2)\n",
    "\n",
    "# 영양 점수 계산\n",
    "min_diff = float('inf')\n",
    "for comb in combs:\n",
    "    comb_score1 = sum(S[i][j] + S[j][i] for i, j in itertools.combinations(comb, 2))\n",
    "    comb_score2 = sum(S[i][j] + S[j][i] for i, j in itertools.combinations(set(range(N)) - set(comb), 2))\n",
    "    diff = abs(comb_score1 - comb_score2)\n",
    "    min_diff = min(min_diff, diff)\n",
    "\n",
    "# 결과 출력\n",
    "\n",
    "print(min_diff)"
   ]
  },
  {
   "cell_type": "code",
   "execution_count": 26,
   "metadata": {},
   "outputs": [],
   "source": [
    "#10"
   ]
  },
  {
   "cell_type": "code",
   "execution_count": 27,
   "metadata": {},
   "outputs": [
    {
     "name": "stdout",
     "output_type": "stream",
     "text": [
      "9\n"
     ]
    }
   ],
   "source": [
    "#11\n",
    "n = int(input())\n",
    "print((n-1)*2-1)"
   ]
  },
  {
   "cell_type": "code",
   "execution_count": 33,
   "metadata": {},
   "outputs": [
    {
     "ename": "TypeError",
     "evalue": "'int' object is not callable",
     "output_type": "error",
     "traceback": [
      "\u001b[1;31m---------------------------------------------------------------------------\u001b[0m",
      "\u001b[1;31mTypeError\u001b[0m                                 Traceback (most recent call last)",
      "\u001b[1;32m~\\AppData\\Local\\Temp\\ipykernel_5016\\69772457.py\u001b[0m in \u001b[0;36m<module>\u001b[1;34m\u001b[0m\n\u001b[0;32m     10\u001b[0m \u001b[1;32melse\u001b[0m\u001b[1;33m:\u001b[0m\u001b[1;33m\u001b[0m\u001b[1;33m\u001b[0m\u001b[0m\n\u001b[0;32m     11\u001b[0m     \u001b[1;32mfor\u001b[0m \u001b[0mi\u001b[0m \u001b[1;32min\u001b[0m \u001b[0mrange\u001b[0m\u001b[1;33m(\u001b[0m\u001b[0mlen\u001b[0m\u001b[1;33m(\u001b[0m\u001b[0mx\u001b[0m\u001b[1;33m)\u001b[0m\u001b[1;33m)\u001b[0m\u001b[1;33m:\u001b[0m\u001b[1;33m\u001b[0m\u001b[1;33m\u001b[0m\u001b[0m\n\u001b[1;32m---> 12\u001b[1;33m         \u001b[0msum\u001b[0m \u001b[1;33m=\u001b[0m \u001b[0msum\u001b[0m\u001b[1;33m(\u001b[0m\u001b[0mx\u001b[0m\u001b[1;33m[\u001b[0m\u001b[0mi\u001b[0m\u001b[1;33m:\u001b[0m\u001b[1;33m]\u001b[0m\u001b[1;33m)\u001b[0m\u001b[1;33m\u001b[0m\u001b[1;33m\u001b[0m\u001b[0m\n\u001b[0m\u001b[0;32m     13\u001b[0m         \u001b[0mmax\u001b[0m \u001b[1;33m=\u001b[0m \u001b[0msum\u001b[0m\u001b[1;33m//\u001b[0m\u001b[1;33m(\u001b[0m\u001b[0mlen\u001b[0m\u001b[1;33m(\u001b[0m\u001b[0mx\u001b[0m\u001b[1;33m[\u001b[0m\u001b[0mi\u001b[0m\u001b[1;33m:\u001b[0m\u001b[1;33m]\u001b[0m\u001b[1;33m)\u001b[0m\u001b[1;33m)\u001b[0m\u001b[1;33m\u001b[0m\u001b[1;33m\u001b[0m\u001b[0m\n\u001b[0;32m     14\u001b[0m         \u001b[1;32mif\u001b[0m \u001b[0mi\u001b[0m \u001b[1;33m<=\u001b[0m \u001b[0mmax\u001b[0m\u001b[1;33m:\u001b[0m\u001b[1;33m\u001b[0m\u001b[1;33m\u001b[0m\u001b[0m\n",
      "\u001b[1;31mTypeError\u001b[0m: 'int' object is not callable"
     ]
    }
   ],
   "source": [
    "#12\n",
    "n = int(input())\n",
    "request = list(map(int, input().split()))\n",
    "total = int(input())\n",
    "\n",
    "if sum(request) <= total:\n",
    "    print(max(request))\n",
    "else:\n",
    "    left = 0\n",
    "    right = total\n",
    "    ans = 0\n",
    "    \n",
    "    while left <= right:\n",
    "        mid = (left + right) // 2\n",
    "        temp = 0\n",
    "        for r in request:\n",
    "            temp += min(r, mid)\n",
    "        \n",
    "        if temp <= total:\n",
    "            ans = max(ans, mid)\n",
    "            left = mid + 1\n",
    "        else:\n",
    "            right = mid - 1\n",
    "    \n",
    "    print(ans)\n",
    "    \n",
    "\n"
   ]
  },
  {
   "cell_type": "code",
   "execution_count": null,
   "metadata": {},
   "outputs": [],
   "source": [
    "#13\n"
   ]
  },
  {
   "cell_type": "code",
   "execution_count": 6,
   "metadata": {},
   "outputs": [
    {
     "name": "stdout",
     "output_type": "stream",
     "text": [
      "1 4\n"
     ]
    }
   ],
   "source": [
    "#14\n",
    "def cal_iou(r1,r2):\n",
    "    x1,y1,w1,h1 = r1\n",
    "    x2,y2,w2,h2 = r2\n",
    "    \n",
    "    bottom,left = max(y1, y2), max(x1, x2)\n",
    "    top,right = min(y1 + h1, y2 + h2), min(x1 + w1, y2 + w2)\n",
    "    if right < left or top < bottom:\n",
    "        return 0\n",
    "    \n",
    "    intersection = (right - left)*(top-left)\n",
    "    union = h1*w1 + h2*w2 - intersection\n",
    "    \n",
    "    return(intersection/union)\n",
    "\n",
    "\n",
    "n = int(input())\n",
    "rectangles = []\n",
    "for i in range(n):\n",
    "    x,y,w,h = map(int, input().split())\n",
    "    rectangles.append([x,y,w,h])\n",
    "\n",
    "max_iou = 0\n",
    "  \n",
    "for i in range(n):\n",
    "    for j in range(i+1, n):\n",
    "       iou = cal_iou(rectangles[i],rectangles[j])\n",
    "       if iou > max_iou:\n",
    "           max_iou = iou \n",
    "           result = [i+1, j+1]\n",
    "print(*result)"
   ]
  },
  {
   "cell_type": "code",
   "execution_count": 21,
   "metadata": {},
   "outputs": [
    {
     "name": "stdout",
     "output_type": "stream",
     "text": [
      "7\n"
     ]
    }
   ],
   "source": [
    "#15\n",
    "n = int(input())\n",
    "x,y = map(int, input().split())\n",
    "\n",
    "ans = []\n",
    "x = abs(x)\n",
    "\n",
    "if x == 0:\n",
    "    print(0)\n",
    "else:\n",
    "    for i in range(x+1):\n",
    "        distance_a = (i**2 + n**2)**0.5 #육지\n",
    "        distance_b = ((x-i)**2+y**2)**0.5 #바다\n",
    "        time = distance_a/10 + distance_b/5\n",
    "        ans.append(time)\n",
    "        \n",
    "    print(ans.index(min(ans)))\n"
   ]
  },
  {
   "cell_type": "code",
   "execution_count": 20,
   "metadata": {},
   "outputs": [
    {
     "name": "stdout",
     "output_type": "stream",
     "text": [
      "7\n"
     ]
    }
   ],
   "source": [
    "n = int(input())\n",
    "x,y = map(int, input().split())\n",
    "\n",
    "ans = []\n",
    "\n",
    "\n",
    "if x == 0:\n",
    "    print(0)\n",
    "elif x > 0:\n",
    "    for i in range(x+1):\n",
    "        distance_a = (i**2 + n**2)**0.5 #육지\n",
    "        distance_b = ((x-i)**2+y**2)**0.5 #바다\n",
    "        time = distance_a/10 + distance_b/5\n",
    "        ans.append(time)\n",
    "        \n",
    "    print(ans.index(min(ans)))\n",
    "else:\n",
    "    for i in range(0,x,-1):\n",
    "        distance_a = (i**2 + n**2)**0.5 #육지\n",
    "        distance_b = ((x-i)**2+y**2)**0.5 #바다\n",
    "        time = distance_a/10 + distance_b/5\n",
    "        ans.append(time)\n",
    "        \n",
    "    print(-ans.index(min(ans)))"
   ]
  },
  {
   "cell_type": "code",
   "execution_count": 3,
   "metadata": {},
   "outputs": [
    {
     "data": {
      "text/plain": [
       "range(1, 4, -1)"
      ]
     },
     "execution_count": 3,
     "metadata": {},
     "output_type": "execute_result"
    }
   ],
   "source": [
    "#16\n"
   ]
  },
  {
   "cell_type": "code",
   "execution_count": 22,
   "metadata": {},
   "outputs": [
    {
     "data": {
      "text/plain": [
       "2"
      ]
     },
     "execution_count": 22,
     "metadata": {},
     "output_type": "execute_result"
    }
   ],
   "source": [
    "#17\n",
    "\n",
    "    \n",
    "\n"
   ]
  },
  {
   "cell_type": "code",
   "execution_count": 40,
   "metadata": {},
   "outputs": [
    {
     "name": "stdout",
     "output_type": "stream",
     "text": [
      "-1\n"
     ]
    }
   ],
   "source": [
    "#18\n"
   ]
  },
  {
   "cell_type": "code",
   "execution_count": null,
   "metadata": {},
   "outputs": [],
   "source": [
    "#19"
   ]
  },
  {
   "cell_type": "code",
   "execution_count": 29,
   "metadata": {},
   "outputs": [],
   "source": [
    "#20"
   ]
  },
  {
   "cell_type": "code",
   "execution_count": 30,
   "metadata": {},
   "outputs": [],
   "source": [
    "#21\n",
    "# 입력 받기\n",
    "N, M = map(int, input().split())\n",
    "guests = []\n",
    "for _ in range(M):\n",
    "    S, E = input().split()\n",
    "    guests.append((S, E))\n",
    "\n",
    "# 손님들의 도착 시간 순으로 정렬\n",
    "guests.sort()\n",
    "\n",
    "# 카페 이용 중인 손님 수와 최대 이용 인원 수\n",
    "cnt, max_cnt = 0, 0\n",
    "\n",
    "# 손님들 방문 기록을 하나씩 확인하며 처리\n",
    "for guest in guests:\n",
    "    # 현재 시간에 있는 손님 중 퇴장한 손님의 수를 빼줌\n",
    "    while cnt > 0 and cafe[cnt-1] <= guest[0]:\n",
    "        cnt -= 1\n",
    "    # 새로운 손님이 입장하면 카페 이용 중인 손님 수를 증가시킴\n",
    "    cnt += 1\n",
    "    # 카페 이용 중인 손님 수가 최대 이용 인원 수를 넘어선 경우 갱신\n",
    "    max_cnt = max(max_cnt, cnt)\n",
    "\n",
    "# 최대 이용 인원 수 출력\n",
    "print(max_cnt)"
   ]
  },
  {
   "cell_type": "code",
   "execution_count": null,
   "metadata": {},
   "outputs": [],
   "source": [
    "#22\n"
   ]
  },
  {
   "cell_type": "code",
   "execution_count": 8,
   "metadata": {},
   "outputs": [
    {
     "name": "stdout",
     "output_type": "stream",
     "text": [
      "  \n",
      "  \n",
      "   \n",
      "  * * \n",
      "   \n",
      "   \n",
      "  * * \n",
      "  \n",
      "  \n"
     ]
    }
   ],
   "source": [
    "#23"
   ]
  },
  {
   "cell_type": "code",
   "execution_count": null,
   "metadata": {},
   "outputs": [],
   "source": [
    "#24"
   ]
  },
  {
   "cell_type": "code",
   "execution_count": null,
   "metadata": {},
   "outputs": [],
   "source": [
    "#25"
   ]
  },
  {
   "cell_type": "code",
   "execution_count": 14,
   "metadata": {},
   "outputs": [
    {
     "name": "stdout",
     "output_type": "stream",
     "text": [
      "9\n"
     ]
    }
   ],
   "source": [
    "N = int(input())\n",
    "times = list(map(int, input().split()))\n",
    "\n",
    "# 3x3 도어락의 버튼마다 걸리는 시간\n",
    "time = [[3,2,3],[2,1,2],[3,2,3]]\n",
    "\n",
    "# dp 테이블 초기화\n",
    "dp = [[0]*3 for _ in range(N)]\n",
    "dp[0][1] = 1\n",
    "\n",
    "for i in range(1,N):\n",
    "    for j in range(3):\n",
    "        for k in range(3):\n",
    "            # j와 k가 같은 경우 1ms, 한 변 또는 모서리를 공유하는 경우 2ms, 그 밖의 경우 3ms\n",
    "            t = time[j][k] if j!=k else 1\n",
    "            if i>=t:\n",
    "                dp[i][j] += dp[i-t][k]\n",
    "                dp[i][j] %= 1000000007\n",
    "\n",
    "# dp[N-1]의 모든 원소를 더하고 1,000,000,007로 나눈 나머지를 출력\n",
    "print(sum(dp[N-1])%1000000007)"
   ]
  },
  {
   "cell_type": "code",
   "execution_count": null,
   "metadata": {},
   "outputs": [],
   "source": [
    "#27"
   ]
  },
  {
   "cell_type": "code",
   "execution_count": 2,
   "metadata": {},
   "outputs": [
    {
     "name": "stdout",
     "output_type": "stream",
     "text": [
      "30\n"
     ]
    }
   ],
   "source": [
    "#28\n"
   ]
  },
  {
   "cell_type": "code",
   "execution_count": 3,
   "metadata": {},
   "outputs": [
    {
     "name": "stdout",
     "output_type": "stream",
     "text": [
      "3\n",
      "1\n"
     ]
    },
    {
     "data": {
      "text/plain": [
       "2"
      ]
     },
     "execution_count": 3,
     "metadata": {},
     "output_type": "execute_result"
    }
   ],
   "source": [
    "#29\n",
    "\n"
   ]
  },
  {
   "cell_type": "code",
   "execution_count": null,
   "metadata": {},
   "outputs": [],
   "source": [
    "#30"
   ]
  }
 ],
 "metadata": {
  "kernelspec": {
   "display_name": "base",
   "language": "python",
   "name": "python3"
  },
  "language_info": {
   "codemirror_mode": {
    "name": "ipython",
    "version": 3
   },
   "file_extension": ".py",
   "mimetype": "text/x-python",
   "name": "python",
   "nbconvert_exporter": "python",
   "pygments_lexer": "ipython3",
   "version": "3.9.13"
  },
  "orig_nbformat": 4
 },
 "nbformat": 4,
 "nbformat_minor": 2
}
