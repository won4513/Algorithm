{
 "cells": [
  {
   "cell_type": "code",
   "execution_count": 8,
   "metadata": {},
   "outputs": [
    {
     "name": "stdout",
     "output_type": "stream",
     "text": [
      "11\n"
     ]
    }
   ],
   "source": [
    "#1\n",
    "n = int(input())\n",
    "cnt = 0\n",
    "while n > 10:\n",
    "    x = 0\n",
    "    if n >= 50000:\n",
    "        x += n//50000\n",
    "        n -= x * 50000\n",
    "        cnt += x\n",
    "        x = 0\n",
    "    elif 10000 <= n < 50000:\n",
    "        x += n//10000\n",
    "        n -= x * 10000\n",
    "        cnt += x\n",
    "        x = 0\n",
    "    elif 5000 <= n < 10000:\n",
    "        x += n//5000\n",
    "        n -= x * 5000\n",
    "        cnt += x\n",
    "        x = 0\n",
    "    elif 1000 <= n < 5000:\n",
    "        x += n//1000\n",
    "        n -= x * 1000\n",
    "        cnt += x\n",
    "        x = 0\n",
    "    elif 500 <= n < 1000:\n",
    "        x += n//500\n",
    "        n -= x * 500\n",
    "        cnt += x\n",
    "        x = 0\n",
    "    elif 100 <= n < 500:\n",
    "        x += n//100\n",
    "        n -= x * 100\n",
    "        cnt += x\n",
    "        x = 0\n",
    "    elif 50 <= n < 100:\n",
    "        x += n//50\n",
    "        n -= x * 50\n",
    "        cnt += x\n",
    "        x = 0\n",
    "    else:\n",
    "        x += n//10\n",
    "        n -= x * 10\n",
    "        cnt += x\n",
    "        x = 0\n",
    "    \n",
    "print(cnt)\n",
    "     "
   ]
  },
  {
   "cell_type": "code",
   "execution_count": 15,
   "metadata": {},
   "outputs": [
    {
     "name": "stdout",
     "output_type": "stream",
     "text": [
      "6\n"
     ]
    }
   ],
   "source": [
    "#2\n",
    "a,n = map(str, input().split())\n",
    "x = list(map(str, input().split()))\n",
    "for i in range(len(x)):\n",
    "    if x[i] == n:\n",
    "        print(i+1)\n"
   ]
  },
  {
   "cell_type": "code",
   "execution_count": 18,
   "metadata": {},
   "outputs": [
    {
     "name": "stdout",
     "output_type": "stream",
     "text": [
      "-1\n"
     ]
    }
   ],
   "source": [
    "#3\n",
    "n,a = map(int, input().split())\n",
    "x = list(map(int,input().split()))\n",
    "y = []\n",
    "for i in range(len(x)):\n",
    "    if x[i] == a:\n",
    "        y.append(a)\n",
    "        print(i+1)\n",
    "if len(y) == 0:\n",
    "    print(-1)\n",
    "\n"
   ]
  },
  {
   "cell_type": "code",
   "execution_count": null,
   "metadata": {},
   "outputs": [],
   "source": [
    "#4\n",
    "n = int(input())\n",
    "a,b = 1, 2\n",
    "for i in range(2,n+1):\n",
    "  a,b = b, a+b\n",
    "print(a%796796)"
   ]
  },
  {
   "cell_type": "code",
   "execution_count": 29,
   "metadata": {},
   "outputs": [
    {
     "name": "stdout",
     "output_type": "stream",
     "text": [
      "16\n",
      "12\n",
      "8\n"
     ]
    }
   ],
   "source": [
    "#5\n",
    "n = int(input())\n",
    "a = []\n",
    "for i in range(n):\n",
    "    x = list(map(str, input().split()))\n",
    "    x[1] = int(x[1])\n",
    "    a.append(x)\n",
    "a.sort(key = lambda x: x[1], reverse = True)\n",
    "for i in range(3):\n",
    "    print(a[i][0])\n",
    "    "
   ]
  },
  {
   "cell_type": "code",
   "execution_count": 102,
   "metadata": {},
   "outputs": [
    {
     "name": "stdout",
     "output_type": "stream",
     "text": [
      "c\n",
      "bb\n"
     ]
    }
   ],
   "source": [
    "#6\n",
    "n = int(input())\n",
    "a = []\n",
    "for i in range(n):\n",
    "    a.append([input()])\n",
    "a.sort(key = lambda x: (len(x[0]), x[0]))\n",
    "b = []\n",
    "for i in a:\n",
    "    if i not in b:\n",
    "        b.append(i)\n",
    "for i in range(len(b)):\n",
    "    print(*b[i])\n"
   ]
  },
  {
   "cell_type": "code",
   "execution_count": 15,
   "metadata": {},
   "outputs": [
    {
     "name": "stdout",
     "output_type": "stream",
     "text": [
      "0 1 1\n",
      "1 0 1\n",
      "1 1 0\n"
     ]
    }
   ],
   "source": [
    "#7\n",
    "n,m = map(int, input().split())\n",
    "x = [[0 for i in range(n)] for i in range(n)]\n",
    "for i in range(m):\n",
    "    a,b = map(int,input().split())\n",
    "    x[a-1][b-1] = 1\n",
    "    x[b-1][a-1] = 1\n",
    "for i in x:\n",
    "    print(*i)"
   ]
  },
  {
   "cell_type": "code",
   "execution_count": 5,
   "metadata": {},
   "outputs": [
    {
     "name": "stdout",
     "output_type": "stream",
     "text": [
      "4 \n",
      "9 12 \n",
      "20 24 26 27 \n",
      "28 29 \n",
      "\n"
     ]
    }
   ],
   "source": [
    "#8"
   ]
  },
  {
   "cell_type": "code",
   "execution_count": 2,
   "metadata": {},
   "outputs": [
    {
     "name": "stdout",
     "output_type": "stream",
     "text": [
      "41\n"
     ]
    }
   ],
   "source": [
    "#9\n",
    "n = int(input())\n",
    "\n",
    "# 경우의 수를 저장하기 위한 배열\n",
    "dp = [0] * (n+1)\n",
    "\n",
    "# 자습실 크기가 2 X 1인 경우 초기화\n",
    "dp[1] = 3\n",
    "\n",
    "if n >= 2:\n",
    "    # 자습실 크기가 2 X 2인 경우 초기화\n",
    "    dp[2] = 7\n",
    "\n",
    "    # 동적 계획법\n",
    "    for i in range(3, n+1):\n",
    "        dp[i] = (dp[i-1] * 2 + dp[i-2])\n",
    "\n",
    "print(dp[n]%796796)"
   ]
  },
  {
   "cell_type": "code",
   "execution_count": 52,
   "metadata": {},
   "outputs": [
    {
     "name": "stdout",
     "output_type": "stream",
     "text": [
      "5\n"
     ]
    }
   ],
   "source": [
    "#10\n",
    "INF = 1000000000\n",
    "\n",
    "n,m = map(int,input().split()) # 동전의 가지 수\n",
    " # 만들고자 하는 가치의 합\n",
    "coin = []\n",
    "for i in range(n):\n",
    "    coin.append(int(input()))\n",
    "\n",
    "d = [INF] * (m+1) # D[i]를 저장하기 위한 리스트\n",
    "\n",
    "# 초기값 설정\n",
    "d[0] = 0 \n",
    "\n",
    "# DP 진행\n",
    "for i in range(n):\n",
    "    for j in range(coin[i], m+1):\n",
    "        d[j] = min(d[j], d[j-coin[i]] + 1)\n",
    "\n",
    "# 결과 출력\n",
    "if d[m] == INF:\n",
    "    print(-1) # 만들 수 없는 경우\n",
    "else:\n",
    "    print(d[m])"
   ]
  },
  {
   "cell_type": "code",
   "execution_count": 54,
   "metadata": {},
   "outputs": [
    {
     "name": "stdout",
     "output_type": "stream",
     "text": [
      "4\n"
     ]
    }
   ],
   "source": [
    "#11\n",
    "import heapq\n",
    "\n",
    "N = int(input())  # 편의점의 개수\n",
    "convenience_stores = []  # 편의점 정보를 담을 리스트\n",
    "for i in range(N):\n",
    "    a, b = map(int, input().split())\n",
    "    convenience_stores.append((a, b))\n",
    "L, P = map(int, input().split())  # 식당까지의 거리와 초기 포만감\n",
    "\n",
    "convenience_stores.sort()  # 편의점을 거리에 대해 오름차순으로 정렬\n",
    "queue = []  # 우선순위 큐를 사용할 리스트\n",
    "ans = 0  # 방문한 편의점의 수\n",
    "d = P  # 이동할 수 있는 거리\n",
    "idx = 0  # 다음으로 방문할 편의점의 인덱스\n",
    "\n",
    "while d < L:  # 식당에 도착하거나 이동할 수 있는 거리가 0이 될 때까지 반복\n",
    "    while idx < N and convenience_stores[idx][0] <= d:  # 이동할 수 있는 거리 내에 있는 편의점을 큐에 추가\n",
    "        heapq.heappush(queue, -convenience_stores[idx][1])  # 얻을 수 있는 포만감을 음수로 바꾸어 우선순위 큐에 추가\n",
    "        idx += 1\n",
    "\n",
    "    if not queue:  # 이동할 수 있는 거리 내에 편의점이 없으면 종료\n",
    "        ans = -1\n",
    "        break\n",
    "\n",
    "    d += -heapq.heappop(queue)  # 가장 포만감이 높은 편의점을 방문하고, 이동할 수 있는 거리를 늘림\n",
    "    ans += 1\n",
    "\n",
    "print(ans)"
   ]
  },
  {
   "cell_type": "code",
   "execution_count": 8,
   "metadata": {},
   "outputs": [
    {
     "data": {
      "text/plain": [
       "116"
      ]
     },
     "execution_count": 8,
     "metadata": {},
     "output_type": "execute_result"
    }
   ],
   "source": [
    "#12\n",
    "\n",
    "x = input()\n",
    "\n",
    "if x == 'You':\n",
    "    print(\"Me\")\n",
    "else:\n",
    "    print('No')"
   ]
  },
  {
   "cell_type": "code",
   "execution_count": 34,
   "metadata": {},
   "outputs": [
    {
     "name": "stdout",
     "output_type": "stream",
     "text": [
      "[5, 7, 18, 38, 40]\n"
     ]
    }
   ],
   "source": [
    "#13\n",
    "x = list(map(int, input().split()))\n",
    "x.sort()\n",
    "print(x[2])"
   ]
  },
  {
   "cell_type": "code",
   "execution_count": 2,
   "metadata": {},
   "outputs": [
    {
     "name": "stdout",
     "output_type": "stream",
     "text": [
      "6\n"
     ]
    }
   ],
   "source": [
    "#14\n",
    "from collections import deque\n",
    "\n",
    "def bfs(start, target):\n",
    "    queue = deque([(start, 0)])\n",
    "    visited = set([start])\n",
    "\n",
    "    while queue:\n",
    "        current, count = queue.popleft()\n",
    "\n",
    "        if current == target:\n",
    "            return count\n",
    "\n",
    "        if current * 2 <= 100000 and current * 2 not in visited:\n",
    "            queue.append((current * 2, count + 1))\n",
    "            visited.add(current * 2)\n",
    "\n",
    "        if current + 1 <= 100000 and current + 1 not in visited:\n",
    "            queue.append((current + 1, count + 1))\n",
    "            visited.add(current + 1)\n",
    "\n",
    "        if current - 1 >= 0 and current - 1 not in visited:\n",
    "            queue.append((current - 1, count + 1))\n",
    "            visited.add(current - 1)\n",
    "\n",
    "# 입력 받기\n",
    "n, k = map(int, input().split())\n",
    "\n",
    "# bfs 실행\n",
    "result = bfs(k, n)\n",
    "\n",
    "# 결과 출력\n",
    "print(result)\n",
    "\n",
    "    "
   ]
  },
  {
   "cell_type": "code",
   "execution_count": 62,
   "metadata": {},
   "outputs": [
    {
     "name": "stdout",
     "output_type": "stream",
     "text": [
      "8\n"
     ]
    }
   ],
   "source": [
    "#15 \n",
    "\n",
    "n = int(input())\n",
    "x = list(map(int, input().split()))\n",
    "\n",
    "k = []\n",
    "y = []\n",
    "a = 1\n",
    "\n",
    "for i in range(len(x)):\n",
    "    y.append(x[i])\n",
    "    for j in range(i+1,len(x)):\n",
    "        \n",
    "        if x[j] > max(y):\n",
    "            y.append(x[j])\n",
    "            a += 1\n",
    "        else:\n",
    "            continue\n",
    "        \n",
    "    y = []\n",
    "        \n",
    "                      \n",
    "    k.append(a)\n",
    "    \n",
    "    a = 1\n",
    "    \n",
    "print(max(k))\n",
    "    "
   ]
  },
  {
   "cell_type": "code",
   "execution_count": 24,
   "metadata": {},
   "outputs": [
    {
     "name": "stdout",
     "output_type": "stream",
     "text": [
      "8\n"
     ]
    }
   ],
   "source": [
    "## 15 ##\n",
    "\n",
    "n = int(input())\n",
    "x = list(map(int, input().split()))\n",
    "\n",
    "dp = [1] * n\n",
    "\n",
    "for i in range(1, n):\n",
    "    for j in range(i):\n",
    "        if x[i] > x[j]:\n",
    "            dp[i] = max(dp[i], dp[j] + 1)\n",
    "\n",
    "print(max(dp))"
   ]
  },
  {
   "cell_type": "code",
   "execution_count": 44,
   "metadata": {},
   "outputs": [
    {
     "name": "stdout",
     "output_type": "stream",
     "text": [
      "9\n"
     ]
    }
   ],
   "source": [
    "#16\n",
    "\n",
    "x, y = map(int, input().split())\n",
    "k = (y*100)//x\n",
    "if k >= 99:\n",
    "    print(-1)\n",
    "\n",
    "else:\n",
    "    ans = 0\n",
    "    start = 1\n",
    "    end = x\n",
    "    \n",
    "    while start <= end:\n",
    "        mid = (start + end) // 2\n",
    "        if (y+mid)*100 // (x + mid) <= k:\n",
    "            start = mid + 1\n",
    "        else:\n",
    "            ans = mid\n",
    "            end = mid -1\n",
    "            \n",
    "    print(ans)   \n",
    "    \n",
    "    \n",
    "        "
   ]
  },
  {
   "cell_type": "code",
   "execution_count": 25,
   "metadata": {},
   "outputs": [
    {
     "name": "stdout",
     "output_type": "stream",
     "text": [
      "47\n"
     ]
    }
   ],
   "source": [
    "#17\n",
    "n = int(input())\n",
    "arr = []\n",
    "for i in range(n):\n",
    "    arr.append(list(map(int, input().split())))\n",
    "\n",
    "dp = [[0] * (i+1) for i in range(n)]\n",
    "dp[n-1] = arr[n-1]\n",
    "\n",
    "for i in range(n-2, -1, -1):\n",
    "    for j in range(i+1):\n",
    "        dp[i][j] = max(dp[i+1][j], dp[i+1][j+1]) + arr[i][j]\n",
    "\n",
    "print(dp[0][0])\n",
    "    \n",
    "\n",
    "    "
   ]
  },
  {
   "cell_type": "code",
   "execution_count": 11,
   "metadata": {},
   "outputs": [
    {
     "name": "stdout",
     "output_type": "stream",
     "text": [
      "[['W', 'B'], ['B', 'W']]\n",
      "0\n"
     ]
    }
   ],
   "source": [
    "#18\n",
    "\n",
    "n = int(input())\n",
    "\n",
    "stone = [list(input()) for _ in range(n)]\n",
    "\n",
    "tmp_board = [k[:] for k in stone]\n",
    "ans = n**2\n",
    "\n",
    "for i in range(n):\n",
    "    for j in range(n):\n",
    "        if tmp_board[i][j] == 'W':\n",
    "            tmp_board[i][j] = 'B'\n",
    "        else:\n",
    "            tmp_board[i][j] = 'W'\n",
    "for b in range(1<<n):# 0~n-1\n",
    "    tmp_s = []\n",
    "    for i in range(n):\n",
    "        if b & (1<<i):\n",
    "            tmp_s.append(tmp_board[i][:])\n",
    "        else:\n",
    "            tmp_s.append(stone[i][:])\n",
    "       \n",
    "    cnt = 0\n",
    "    for i in range(n):\n",
    "        tmp = 0\n",
    "        for j in range(n):\n",
    "            if tmp_s[j][i] == 'W':\n",
    "                tmp+=1\n",
    "        cnt += min(tmp,n-tmp)\n",
    "    ans = min(ans,cnt)\n",
    "\n",
    "print(ans)"
   ]
  },
  {
   "cell_type": "code",
   "execution_count": null,
   "metadata": {},
   "outputs": [],
   "source": [
    "#19\n",
    "n = int(input())\n",
    "answer = 0\n",
    "dp = [0] * (n + 1)\n",
    "dp[0] = 1  \n",
    "sub = 0\n",
    "for i in range(2, n + 1, 2):\n",
    "    dp[i] = dp[i - 2] * 3 + sub * 2\n",
    "    sub += dp[i - 2]\n",
    "\n",
    "print(dp[n])"
   ]
  },
  {
   "cell_type": "code",
   "execution_count": 61,
   "metadata": {},
   "outputs": [
    {
     "name": "stdout",
     "output_type": "stream",
     "text": [
      "42\n"
     ]
    }
   ],
   "source": [
    "#20\n",
    "n,m = map(int,input().split())\n",
    "cnt = 0\n",
    "while n < m:\n",
    "    n += 3\n",
    "    cnt += 1\n",
    "while n != m:\n",
    "    n -= 1\n",
    "    cnt += 1\n",
    "print(cnt)\n"
   ]
  },
  {
   "cell_type": "code",
   "execution_count": 136,
   "metadata": {},
   "outputs": [
    {
     "name": "stdout",
     "output_type": "stream",
     "text": [
      "9\n"
     ]
    }
   ],
   "source": [
    "#21\n",
    "x = [[0]*8 for i in range(8)]\n",
    "for i in range(8):\n",
    "    if i % 2 == 0:\n",
    "        for j in range(8):\n",
    "            if j % 2 != 0:\n",
    "                x[i][j] = 1\n",
    "    else:\n",
    "        for j in range(8):\n",
    "            if j % 2 == 0:\n",
    "                x[i][j] = 1\n",
    " \n",
    "y = []\n",
    "for i in range(8):\n",
    "    y.append(list(map(str, input())))\n",
    "\n",
    "cnt = 0\n",
    "for i in range(8):\n",
    "    for j in range(8):\n",
    "        if x[i][j] == 0 and y[i][j] == 'F':\n",
    "            cnt += 1\n",
    "print(cnt)\n",
    "           \n",
    "\n"
   ]
  },
  {
   "cell_type": "code",
   "execution_count": 28,
   "metadata": {},
   "outputs": [
    {
     "name": "stdout",
     "output_type": "stream",
     "text": [
      "14\n"
     ]
    }
   ],
   "source": [
    "#22\n",
    "import heapq\n",
    "\n",
    "n = int(input())\n",
    "grid = [list(map(int, input().split())) for _ in range(n)]\n",
    "\n",
    "INF = int(1e9)  # 무한을 의미하는 값으로 충분히 큰 값으로 설정합니다.\n",
    "dist = [[INF] * n for _ in range(n)]  # 시작점에서 각 정점까지의 최단 거리를 저장할 배열입니다.\n",
    "\n",
    "# 다익스트라 알고리즘을 수행합니다.\n",
    "heap = []\n",
    "heapq.heappush(heap, (grid[0][0], 0, 0))  # (거리, 행, 열)을 원소로 갖는 최소 힙을 사용합니다.\n",
    "dist[0][0] = grid[0][0]\n",
    "\n",
    "dx = [-1, 1, 0, 0]  # 상하좌우 이동을 위한 dx, dy 배열입니다.\n",
    "dy = [0, 0, -1, 1]\n",
    "\n",
    "while heap:\n",
    "    cur_dist, cur_row, cur_col = heapq.heappop(heap)\n",
    "\n",
    "    # 현재 정점이 이미 처리된 정점이라면 스킵합니다.\n",
    "    if dist[cur_row][cur_col] < cur_dist:\n",
    "        continue\n",
    "\n",
    "    # 인접한 정점들을 방문하며 최단 거리를 갱신합니다.\n",
    "    for i in range(4):\n",
    "        next_row, next_col = cur_row + dx[i], cur_col + dy[i]\n",
    "        if 0 <= next_row < n and 0 <= next_col < n:\n",
    "            next_dist = cur_dist + grid[next_row][next_col]\n",
    "            if next_dist < dist[next_row][next_col]:\n",
    "                dist[next_row][next_col] = next_dist\n",
    "                heapq.heappush(heap, (next_dist, next_row, next_col))\n",
    "\n",
    "# 1행 1열에서 N행 N열까지의 최단 거리를 출력합니다.\n",
    "print(dist[n-1][n-1])"
   ]
  },
  {
   "cell_type": "code",
   "execution_count": 9,
   "metadata": {},
   "outputs": [
    {
     "name": "stdout",
     "output_type": "stream",
     "text": [
      "3\n"
     ]
    }
   ],
   "source": [
    "#23\n",
    "from collections import deque\n",
    "\n",
    "n, m = map(int, input().split())\n",
    "sweets = deque(range(1, n+1))\n",
    "target = list(map(int,input().split()))\n",
    "total_rotate = 0\n",
    "for i in range(m):\n",
    "    \n",
    "    target_idx = sweets.index(target[i])\n",
    "    rotate_left = target_idx\n",
    "    rotate_right = len(sweets) - target_idx\n",
    "    if rotate_left <= rotate_right:\n",
    "        sweets.rotate(-rotate_left)\n",
    "        total_rotate += rotate_left\n",
    "    else:\n",
    "        sweets.rotate(rotate_right)\n",
    "        total_rotate += rotate_right\n",
    "    sweets.popleft()\n",
    "\n",
    "print(total_rotate)"
   ]
  },
  {
   "cell_type": "code",
   "execution_count": 4,
   "metadata": {},
   "outputs": [
    {
     "name": "stdout",
     "output_type": "stream",
     "text": [
      "1 5 2 1 1 1 1 1 1 1\n"
     ]
    }
   ],
   "source": [
    "#24\n",
    "n = int(input())\n",
    "x = [0,1,2,3,4,5,6,7,8,9]\n",
    "ans = [0]*10\n",
    "for i in range(1,n+1):\n",
    "    for j in str(i):\n",
    "        for k in x:\n",
    "            if int(j) == x[k]:\n",
    "                ans[k] += 1\n",
    "print(*ans)\n",
    "    \n"
   ]
  },
  {
   "cell_type": "code",
   "execution_count": 6,
   "metadata": {},
   "outputs": [
    {
     "name": "stdout",
     "output_type": "stream",
     "text": [
      "252\n"
     ]
    }
   ],
   "source": [
    "#25\n",
    "a,b = map(int, input().split())\n",
    "\n",
    "x = 1\n",
    "y = 1\n",
    "\n",
    "for i in range(a-b+1, a+1):\n",
    "    x *= i\n",
    "for i in range(1,b+1):\n",
    "    y *= i\n",
    "print(x//y)\n",
    "    \n",
    "\n"
   ]
  },
  {
   "cell_type": "code",
   "execution_count": null,
   "metadata": {},
   "outputs": [],
   "source": [
    "#26\n",
    "n = int(input())\n",
    "a = []\n",
    "for i in range(n):\n",
    "    a.append([input()])\n",
    "a.sort(key = lambda x: (len(x[0]), x[0]))\n",
    "b = []\n",
    "for i in a:\n",
    "    if i not in b:\n",
    "        b.append(i)\n",
    "for i in range(len(b)):\n",
    "    print(*b[i])"
   ]
  },
  {
   "cell_type": "code",
   "execution_count": 30,
   "metadata": {},
   "outputs": [
    {
     "name": "stdout",
     "output_type": "stream",
     "text": [
      "0\n"
     ]
    },
    {
     "data": {
      "text/plain": [
       "['0']"
      ]
     },
     "execution_count": 30,
     "metadata": {},
     "output_type": "execute_result"
    }
   ],
   "source": [
    "#27\n",
    "n = int(input())\n",
    "\n",
    "x = list(map(str, input().split()))\n",
    "\n",
    "cnt = 0\n",
    "sum = 0\n",
    "for i in x:\n",
    "    if i == '0':\n",
    "        cnt += 1\n",
    "if x == '0':\n",
    "    print('0') \n",
    "elif cnt <= 1 and x != ['0']:\n",
    "    print(-1)\n",
    "else:\n",
    "    x = sorted(x, reverse = True)\n",
    "    for i in x:\n",
    "        sum += int(i)\n",
    "    if sum % 3 != 0:\n",
    "        print(-1)\n",
    "    else:\n",
    "        print(''.join(x))\n",
    "\n",
    "    \n"
   ]
  },
  {
   "cell_type": "code",
   "execution_count": 6,
   "metadata": {},
   "outputs": [
    {
     "name": "stdout",
     "output_type": "stream",
     "text": [
      "62100\n"
     ]
    }
   ],
   "source": [
    "#28\n",
    "n = int(input())\n",
    "\n",
    "count = 0\n",
    "\n",
    "# 00:00:00부터 23:59:59까지 모든 시각을 검사한다.\n",
    "for hour in range(24):\n",
    "    for minute in range(60):\n",
    "        for second in range(60):\n",
    "            # 시각에서 각 자리수를 분리한다.\n",
    "            hour_digit1, hour_digit2 = divmod(hour, 10)\n",
    "            minute_digit1, minute_digit2 = divmod(minute, 10)\n",
    "            second_digit1, second_digit2 = divmod(second, 10)\n",
    "            # 시각의 각 자리수에서 숫자 N이 등장하는지 검사한다.\n",
    "            if n in (hour_digit1, hour_digit2, minute_digit1, minute_digit2, second_digit1, second_digit2):\n",
    "                count += 1\n",
    "\n",
    "print(count)\n",
    "        "
   ]
  },
  {
   "cell_type": "code",
   "execution_count": 11,
   "metadata": {},
   "outputs": [
    {
     "name": "stdout",
     "output_type": "stream",
     "text": [
      "3\n"
     ]
    }
   ],
   "source": [
    "#29\n",
    "n, m = map(int, input().split())\n",
    "\n",
    "castle = []\n",
    "for i in range(n):\n",
    "    row = list(map(int, input().split()))\n",
    "    castle.append(row)\n",
    "\n",
    "count = 0\n",
    "\n",
    "# 각 가로줄에 대해 적어도 하나의 기둥이 존재하도록 만들기\n",
    "for i in range(n):\n",
    "    if all(castle[i][j] == 1 for j in range(m)):\n",
    "        for j in range(m):\n",
    "            castle[i][j] = 0\n",
    "        count += 1\n",
    "\n",
    "# 각 세로줄에 대해 적어도 하나의 기둥이 존재하도록 만들기\n",
    "for j in range(m):\n",
    "    if all(castle[i][j] == 1 for i in range(n)):\n",
    "        for i in range(n):\n",
    "            castle[i][j] = 0\n",
    "        count += 1\n",
    "\n",
    "print(count)"
   ]
  },
  {
   "cell_type": "code",
   "execution_count": null,
   "metadata": {},
   "outputs": [],
   "source": [
    "#30\n",
    "n = int(input())\n",
    "x = [1,3,5,7]\n",
    "if n not in x:\n",
    "    print('STAY')\n",
    "else:\n",
    "    print('RUN')"
   ]
  },
  {
   "cell_type": "code",
   "execution_count": 87,
   "metadata": {},
   "outputs": [
    {
     "name": "stdout",
     "output_type": "stream",
     "text": [
      "16 50\n"
     ]
    }
   ],
   "source": [
    "#31\n",
    "n,m = map(int, input().split())\n",
    "\n",
    "if m >= 30:\n",
    "    print(n, m-30)\n",
    "else:\n",
    "    if n == 0:\n",
    "        print(23, m+30)\n",
    "    else:\n",
    "        print(n-1, m+30)"
   ]
  },
  {
   "cell_type": "code",
   "execution_count": 89,
   "metadata": {},
   "outputs": [
    {
     "name": "stdout",
     "output_type": "stream",
     "text": [
      "**\n",
      " **\n",
      "  **\n"
     ]
    }
   ],
   "source": [
    "#32\n",
    "n = int(input())\n",
    "\n",
    "for i in range(n):\n",
    "    print(i*' ' + '**')"
   ]
  },
  {
   "cell_type": "code",
   "execution_count": 130,
   "metadata": {},
   "outputs": [
    {
     "name": "stdout",
     "output_type": "stream",
     "text": [
      "1 5\n",
      "2 4\n",
      "3 3\n",
      "4 2\n",
      "5 1\n"
     ]
    }
   ],
   "source": [
    "#33\n",
    "n = int(input())\n",
    "\n",
    "x = [1,1]\n",
    "\n",
    "while x[0] != 7:   \n",
    "    if x[0] + x[1] == n:\n",
    "        print(*x)\n",
    "    x[1] += 1 \n",
    "    if x[1] == 7:\n",
    "        x[1] = 1\n",
    "        x[0] += 1\n",
    "    \n",
    "            "
   ]
  },
  {
   "cell_type": "code",
   "execution_count": null,
   "metadata": {},
   "outputs": [],
   "source": [
    "#34 제외    "
   ]
  },
  {
   "cell_type": "code",
   "execution_count": 10,
   "metadata": {},
   "outputs": [
    {
     "name": "stdout",
     "output_type": "stream",
     "text": [
      "0.320\n"
     ]
    }
   ],
   "source": [
    "#35\n",
    "p, q = map(int, input().split())\n",
    "n = int(input())\n",
    "\n",
    "fraction = \"{:.{}f}\".format(p/q, n)\n",
    "print(fraction)\n"
   ]
  },
  {
   "cell_type": "code",
   "execution_count": 12,
   "metadata": {},
   "outputs": [
    {
     "name": "stdout",
     "output_type": "stream",
     "text": [
      "728\n"
     ]
    }
   ],
   "source": [
    "#36\n",
    "def find_grass_locations(field):\n",
    "    \"\"\"\n",
    "    잡초만 있는 땅의 위치를 찾는 함수\n",
    "    \"\"\"\n",
    "    grass_locations = []\n",
    "    for i in range(len(field)):\n",
    "        for j in range(len(field)):\n",
    "            if field[i][j] == 2:\n",
    "                grass_locations.append((i, j))\n",
    "    return grass_locations\n",
    "\n",
    "def remove_grass(field, idx, is_row):\n",
    "    \"\"\"\n",
    "    잡초를 제거하는 함수\n",
    "    \"\"\"\n",
    "    n = len(field)\n",
    "    if is_row:  # 가로줄인 경우\n",
    "        for j in range(n):\n",
    "            if field[idx][j] == 2:\n",
    "                field[idx][j] = 0\n",
    "    else:  # 세로줄인 경우\n",
    "        for i in range(n):\n",
    "            if field[i][idx] == 2:\n",
    "                field[i][idx] = 0\n",
    "\n",
    "def backtrack(field, grass_locations, idx, selected, cnt):\n",
    "    \"\"\"\n",
    "    백트래킹 함수\n",
    "    \"\"\"\n",
    "    if idx == len(grass_locations):\n",
    "        # 모든 잡초를 선택한 경우\n",
    "        return cnt\n",
    "\n",
    "    # 해당 잡초를 선택하지 않는 경우\n",
    "    cnt = backtrack(field, grass_locations, idx+1, selected, cnt)\n",
    "\n",
    "    # 해당 잡초를 선택하는 경우\n",
    "    i, j = grass_locations[idx]\n",
    "    if not selected[i][j]:\n",
    "        selected[i][j] = True\n",
    "        remove_grass(field, i, True)  # 가로줄 제거\n",
    "        cnt = backtrack(field, grass_locations, idx+1, selected, cnt+1)\n",
    "        remove_grass(field, i, True)  # 가로줄 복구\n",
    "        remove_grass(field, j, False)  # 세로줄 제거\n",
    "        cnt = backtrack(field, grass_locations, idx+1, selected, cnt+1)\n",
    "        remove_grass(field, j, False)  # 세로줄 복구\n",
    "        selected[i][j] = False\n",
    "\n",
    "    return cnt\n",
    "\n",
    "# 입력\n",
    "n = int(input())\n",
    "field = []\n",
    "for i in range(n):\n",
    "    row = list(map(int, input().split()))\n",
    "    field.append(row)\n",
    "\n",
    "# 잡초 위치 찾기\n",
    "grass_locations = find_grass_locations(field)\n",
    "\n",
    "# 백트래킹\n",
    "selected = [[False]*n for _ in range(n)]\n",
    "cnt = backtrack(field, grass_locations, 0, selected, 0)\n",
    "\n",
    "# 결과 출력\n",
    "print(cnt)"
   ]
  },
  {
   "cell_type": "code",
   "execution_count": 50,
   "metadata": {},
   "outputs": [
    {
     "name": "stdout",
     "output_type": "stream",
     "text": [
      "  1  \n",
      " 1  1  \n",
      "1  2  1  \n"
     ]
    }
   ],
   "source": [
    "#37\n"
   ]
  },
  {
   "cell_type": "code",
   "execution_count": 8,
   "metadata": {},
   "outputs": [
    {
     "name": "stdout",
     "output_type": "stream",
     "text": [
      "28\n"
     ]
    }
   ],
   "source": [
    "#38\n",
    "x = list(map(str, input().split()))\n",
    "x\n",
    "\n",
    "if x[0] == '0':\n",
    "    print(0)\n",
    "\n",
    "else: \n",
    "    if x[3] == 'Private':#병\n",
    "        if x[2] == 'N':#동원 미지정\n",
    "            if int(x[0]) <= 4: \n",
    "                if x[1] != 'ROKAF':#육군or해군 4년차 이하\n",
    "                    print(32)\n",
    "                else:\n",
    "                    print(28)\n",
    "            else:\n",
    "                print(20)\n",
    "        else:#동원 지정\n",
    "            if int(x[0]) <= 4:\n",
    "                print(28)\n",
    "    else:#간부\n",
    "        print(28)\n",
    "        "
   ]
  },
  {
   "cell_type": "code",
   "execution_count": 12,
   "metadata": {},
   "outputs": [
    {
     "name": "stdout",
     "output_type": "stream",
     "text": [
      "YES\n"
     ]
    }
   ],
   "source": [
    "#39\n",
    "N = int(input())\n",
    "if N%9==0 or N%25==0 or N%(17**2) ==0 or N%(257**2)==0 or N%(65537**2)==0:\n",
    "    print(\"NO\")\n",
    "elif N%2==0:\n",
    "    print(\"YES\")\n",
    "elif N%3 == 0:\n",
    "    print(\"YES\")\n",
    "elif N%5==0:\n",
    "    print(\"YES\")\n",
    "elif N%17==0:\n",
    "    print(\"YES\")\n",
    "elif N%257==0:\n",
    "    print(\"YES\")\n",
    "elif N%65537==0:\n",
    "    print(\"YES\")\n",
    "else:\n",
    "    print(\"NO\")\n"
   ]
  },
  {
   "cell_type": "code",
   "execution_count": 44,
   "metadata": {},
   "outputs": [
    {
     "data": {
      "text/plain": [
       "True"
      ]
     },
     "execution_count": 44,
     "metadata": {},
     "output_type": "execute_result"
    }
   ],
   "source": [
    "#40\n",
    "def to_second(time):\n",
    "    hour, minute, second = map(int, time.split(':'))\n",
    "    return hour * 3600 + minute * 60 + second\n",
    "length = int(input())\n",
    "n = int(input())\n",
    "\n",
    "speeds = {}\n",
    "for _ in range(n):\n",
    "    car, time = input().split()\n",
    "    speeds[car] = [to_second(time)]\n",
    "\n",
    "for _ in range(n):\n",
    "    car, time = input().split()\n",
    "    speeds[car].append(to_second(time))\n",
    "\n",
    "for car in sorted(speeds.keys()):\n",
    "    time_diff = speeds[car][1] - speeds[car][0]\n",
    "    speed = int(length / time_diff * 3600)\n",
    "    print(car, speed)"
   ]
  }
 ],
 "metadata": {
  "kernelspec": {
   "display_name": "Python 3",
   "language": "python",
   "name": "python3"
  },
  "language_info": {
   "codemirror_mode": {
    "name": "ipython",
    "version": 3
   },
   "file_extension": ".py",
   "mimetype": "text/x-python",
   "name": "python",
   "nbconvert_exporter": "python",
   "pygments_lexer": "ipython3",
   "version": "3.9.13"
  },
  "orig_nbformat": 4,
  "vscode": {
   "interpreter": {
    "hash": "afb734500600fd355917ca529030176ea0ca205570884b88f2f6f7d791fd3fbe"
   }
  }
 },
 "nbformat": 4,
 "nbformat_minor": 2
}
