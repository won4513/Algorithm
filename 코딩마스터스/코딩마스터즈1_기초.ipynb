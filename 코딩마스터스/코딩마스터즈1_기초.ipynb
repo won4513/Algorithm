{
 "cells": [
  {
   "cell_type": "code",
   "execution_count": null,
   "metadata": {},
   "outputs": [],
   "source": [
    "#1\n",
    "a = input()\n",
    "x = ''\n",
    "for i in a:\n",
    "    x+=i\n",
    "    if i == 'c':\n",
    "        break\n",
    "print(x, end = '')"
   ]
  },
  {
   "cell_type": "code",
   "execution_count": null,
   "metadata": {},
   "outputs": [],
   "source": [
    "#2\n",
    "a,b,n = map(int, input().split())\n",
    "print(a+ (n-1)*b)\n",
    "\n"
   ]
  },
  {
   "cell_type": "code",
   "execution_count": null,
   "metadata": {},
   "outputs": [],
   "source": [
    "#3\n",
    "n = int(input())\n",
    "\n",
    "B = format(n, 'o')\n",
    "H = format(n, 'X')\n",
    "\n",
    "print(B,H ,end = '')\n",
    "\n",
    "    \n"
   ]
  },
  {
   "cell_type": "code",
   "execution_count": null,
   "metadata": {},
   "outputs": [],
   "source": [
    "#4\n",
    "a = int(input())\n",
    "print(chr(a))"
   ]
  },
  {
   "cell_type": "code",
   "execution_count": 8,
   "metadata": {},
   "outputs": [
    {
     "name": "stdout",
     "output_type": "stream",
     "text": [
      "I\n"
     ]
    }
   ],
   "source": [
    "#5\n",
    "\n",
    "a = input()\n",
    " \n",
    "if len(a) <= 20:    \n",
    "    for i in a:    \n",
    "        if ord(i) < 65 or 90 < ord(i) < 97 or 122 <ord(i):\n",
    "            print('I')\n",
    "            break   \n",
    "        else:\n",
    "            print('P')\n",
    "            break\n",
    "else:\n",
    "    print('I')\n"
   ]
  },
  {
   "cell_type": "code",
   "execution_count": 10,
   "metadata": {},
   "outputs": [
    {
     "name": "stdout",
     "output_type": "stream",
     "text": [
      "2\n"
     ]
    }
   ],
   "source": [
    "#6\n",
    "n = int(input())\n",
    "x = [0,0]\n",
    "x[0] = n%5\n",
    "x[1] = n%7\n",
    "print(max(x))  \n"
   ]
  },
  {
   "cell_type": "code",
   "execution_count": 13,
   "metadata": {},
   "outputs": [
    {
     "name": "stdout",
     "output_type": "stream",
     "text": [
      "B\n"
     ]
    }
   ],
   "source": [
    "#7\n",
    "n = int(input())\n",
    "if n >= 200:\n",
    "    print('A')\n",
    "elif 180 <= n < 200:\n",
    "    print('B')\n",
    "elif 150 <= n < 180:\n",
    "    print('C')\n",
    "else:\n",
    "    print('D')"
   ]
  },
  {
   "cell_type": "code",
   "execution_count": 15,
   "metadata": {},
   "outputs": [
    {
     "name": "stdout",
     "output_type": "stream",
     "text": [
      "177\n"
     ]
    }
   ],
   "source": [
    "#8\n",
    "a, b = map(int,input().split())\n",
    "print((a+b)//2)"
   ]
  },
  {
   "cell_type": "code",
   "execution_count": 18,
   "metadata": {},
   "outputs": [
    {
     "name": "stdout",
     "output_type": "stream",
     "text": [
      "P\n"
     ]
    }
   ],
   "source": [
    "#9\n",
    "a,b,c = map(int,input().split())\n",
    "if a+b+c == 180 and 0<a and 0<b and 0<c:\n",
    "    print('P')\n",
    "else:\n",
    "    print('F')"
   ]
  },
  {
   "cell_type": "code",
   "execution_count": 110,
   "metadata": {},
   "outputs": [
    {
     "name": "stdout",
     "output_type": "stream",
     "text": [
      "4\n"
     ]
    }
   ],
   "source": [
    "#10\n",
    "a,b,n = map(int, input().split())\n",
    "cnt = 0\n",
    "day = 0\n",
    "while n >= cnt:\n",
    "    day += 1\n",
    "    cnt += a\n",
    "    if n <= cnt:\n",
    "        break\n",
    "    cnt -= b\n",
    "print(day)\n",
    "    "
   ]
  },
  {
   "cell_type": "code",
   "execution_count": 29,
   "metadata": {},
   "outputs": [
    {
     "name": "stdout",
     "output_type": "stream",
     "text": [
      "P\n"
     ]
    }
   ],
   "source": [
    "#11\n",
    "n = int(input())\n",
    "a = list(map(int,input().split()))\n",
    "for i in a:\n",
    "    if i <= 160:\n",
    "        print('I', i, end = '')\n",
    "        break\n",
    "if min(a) > 160:\n",
    "    print('P')\n"
   ]
  },
  {
   "cell_type": "code",
   "execution_count": null,
   "metadata": {},
   "outputs": [],
   "source": [
    "#12\n",
    "n = int(input())\n",
    "print(10*n)"
   ]
  },
  {
   "cell_type": "code",
   "execution_count": 30,
   "metadata": {},
   "outputs": [
    {
     "name": "stdout",
     "output_type": "stream",
     "text": [
      "1\n"
     ]
    }
   ],
   "source": [
    "#13\n",
    "n = int(input())\n",
    "print(n%3)"
   ]
  },
  {
   "cell_type": "code",
   "execution_count": 32,
   "metadata": {},
   "outputs": [
    {
     "name": "stdout",
     "output_type": "stream",
     "text": [
      "0\n"
     ]
    }
   ],
   "source": [
    "#14\n",
    "n = int(input())\n",
    "print(n//16)"
   ]
  },
  {
   "cell_type": "code",
   "execution_count": 108,
   "metadata": {},
   "outputs": [
    {
     "name": "stdout",
     "output_type": "stream",
     "text": [
      "12.56\n"
     ]
    }
   ],
   "source": [
    "#15\n",
    "n = int(input())\n",
    "if n*n*3.14 % 1 == 0:\n",
    "    print(int(n*n*3.14))\n",
    "else:\n",
    "    print(n*n*3.14)"
   ]
  },
  {
   "cell_type": "code",
   "execution_count": 39,
   "metadata": {},
   "outputs": [
    {
     "name": "stdout",
     "output_type": "stream",
     "text": [
      "4\n"
     ]
    }
   ],
   "source": [
    "#16\n",
    "import math\n",
    "a,b = map(int, input().split())\n",
    "print(math.gcd(a,b))"
   ]
  },
  {
   "cell_type": "code",
   "execution_count": null,
   "metadata": {},
   "outputs": [],
   "source": [
    "#17\n",
    "a = input()\n",
    "if len(a) > 20:\n",
    "    print(0)\n",
    "else:\n",
    "    print(-1)"
   ]
  },
  {
   "cell_type": "code",
   "execution_count": 44,
   "metadata": {},
   "outputs": [
    {
     "name": "stdout",
     "output_type": "stream",
     "text": [
      "165\n"
     ]
    }
   ],
   "source": [
    "#18\n",
    "n = int(input())\n",
    "cnt = 0\n",
    "for i in range(2,n+1):\n",
    "    x = 0\n",
    "    for j in range(2,i+1):\n",
    "        if i % j == 0:\n",
    "            x += 1\n",
    "    if x == 1:\n",
    "        cnt += 1\n",
    "print(cnt)\n",
    "            \n",
    "    "
   ]
  },
  {
   "cell_type": "code",
   "execution_count": 46,
   "metadata": {},
   "outputs": [
    {
     "name": "stdout",
     "output_type": "stream",
     "text": [
      "12\n"
     ]
    }
   ],
   "source": [
    "#19\n",
    "n = int(input())\n",
    "x = 0\n",
    "for i in range(n):\n",
    "    x += int(input())\n",
    "print(x)"
   ]
  },
  {
   "cell_type": "code",
   "execution_count": 47,
   "metadata": {},
   "outputs": [
    {
     "name": "stdout",
     "output_type": "stream",
     "text": [
      "1\n"
     ]
    }
   ],
   "source": [
    "#20\n",
    "n = int(input())\n",
    "cnt = 0\n",
    "for i in range(1,n+1):\n",
    "    if i % 5 == 0:\n",
    "        cnt += 1\n",
    "print(cnt)"
   ]
  },
  {
   "cell_type": "code",
   "execution_count": 62,
   "metadata": {},
   "outputs": [
    {
     "name": "stdout",
     "output_type": "stream",
     "text": [
      "15\n"
     ]
    }
   ],
   "source": [
    "#21\n",
    "a = list(map(int, input().split()))\n",
    "a.sort()\n",
    "if a[1] - a[0] > a[2] - a[1]:\n",
    "    print(a[1] - a[0] - 1)\n",
    "else:\n",
    "    print(a[2] - a[1] - 1)\n"
   ]
  },
  {
   "cell_type": "code",
   "execution_count": null,
   "metadata": {},
   "outputs": [],
   "source": [
    "#22\n",
    "a = int(input())\n",
    "if a % 2 == 0:\n",
    "    print('E')\n",
    "else:\n",
    "    print('O')"
   ]
  },
  {
   "cell_type": "code",
   "execution_count": 64,
   "metadata": {},
   "outputs": [
    {
     "name": "stdout",
     "output_type": "stream",
     "text": [
      "4\n"
     ]
    }
   ],
   "source": [
    "#23\n",
    "a = input()\n",
    "cnt = 0\n",
    "for i in a:\n",
    "    if i == 'k':\n",
    "        cnt += 1\n",
    "print(cnt)"
   ]
  },
  {
   "cell_type": "code",
   "execution_count": 66,
   "metadata": {},
   "outputs": [
    {
     "name": "stdout",
     "output_type": "stream",
     "text": [
      "*\n",
      "**\n",
      "***\n"
     ]
    }
   ],
   "source": [
    "#24\n",
    "n = int(input())\n",
    "for i in range(1,n+1):\n",
    "    print(i * '*')"
   ]
  },
  {
   "cell_type": "code",
   "execution_count": 72,
   "metadata": {},
   "outputs": [
    {
     "name": "stdout",
     "output_type": "stream",
     "text": [
      "asdasd as\n",
      "asdda sad\n"
     ]
    }
   ],
   "source": [
    "#25\n",
    "a = input()\n",
    "b = input()\n",
    "print(a)\n",
    "print(b)"
   ]
  },
  {
   "cell_type": "code",
   "execution_count": null,
   "metadata": {},
   "outputs": [],
   "source": [
    "#26\n",
    "#7\n",
    "n = int(input())\n",
    "if n >= 90:\n",
    "    print('A')\n",
    "elif 80 <= n < 90:\n",
    "    print('B')\n",
    "elif 70 <= n < 80:\n",
    "    print('C')\n",
    "else:\n",
    "    print('F')"
   ]
  },
  {
   "cell_type": "code",
   "execution_count": 85,
   "metadata": {},
   "outputs": [
    {
     "name": "stdout",
     "output_type": "stream",
     "text": [
      "584\n"
     ]
    }
   ],
   "source": [
    "#27\n",
    "a,b = map(int, input().split())\n",
    "a = a//100 + (a%100 - a%10) + 100*(a%10)\n",
    "b = b//100 + (b%100  - b%10) + 100*(b%10)\n",
    "if a > b:\n",
    "    print(a)\n",
    "else:\n",
    "    print(b)\n",
    "\n",
    "\n"
   ]
  },
  {
   "cell_type": "code",
   "execution_count": 84,
   "metadata": {},
   "outputs": [
    {
     "data": {
      "text/plain": [
       "321"
      ]
     },
     "execution_count": 84,
     "metadata": {},
     "output_type": "execute_result"
    }
   ],
   "source": [
    "#28\n",
    "n = int(input())\n",
    "if n == 0:\n",
    "    print(1)\n",
    "else:\n",
    "    print(0)"
   ]
  },
  {
   "cell_type": "code",
   "execution_count": 105,
   "metadata": {},
   "outputs": [
    {
     "name": "stdout",
     "output_type": "stream",
     "text": [
      "1 3\n",
      "2 4\n"
     ]
    }
   ],
   "source": [
    "#29\n",
    "n = int(input())\n",
    "x = [] \n",
    "a = []\n",
    "for i in range(1,n**2+1):\n",
    "    a.append(i)\n",
    "    if len(a) == n:\n",
    "        x.append(a)\n",
    "        a = []\n",
    "b = []\n",
    "for i in range(n):\n",
    "    for j in range(n):\n",
    "        b.append(x[j][i])\n",
    "    print(*b)\n",
    "    b = []\n",
    "\n",
    "      \n",
    "\n",
    "\n",
    "    \n",
    "\n",
    "\n"
   ]
  },
  {
   "cell_type": "code",
   "execution_count": 107,
   "metadata": {},
   "outputs": [
    {
     "name": "stdout",
     "output_type": "stream",
     "text": [
      "72\n",
      "9\n"
     ]
    }
   ],
   "source": [
    "#30\n",
    "n = int(input())\n",
    "print(int(str(n)[::-1]))\n",
    "cnt = 0\n",
    "for i in str(n):\n",
    "    cnt += int(i)\n",
    "print(cnt)"
   ]
  },
  {
   "cell_type": "code",
   "execution_count": null,
   "metadata": {},
   "outputs": [],
   "source": []
  },
  {
   "cell_type": "code",
   "execution_count": null,
   "metadata": {},
   "outputs": [],
   "source": []
  }
 ],
 "metadata": {
  "kernelspec": {
   "display_name": "Python 3",
   "language": "python",
   "name": "python3"
  },
  "language_info": {
   "codemirror_mode": {
    "name": "ipython",
    "version": 3
   },
   "file_extension": ".py",
   "mimetype": "text/x-python",
   "name": "python",
   "nbconvert_exporter": "python",
   "pygments_lexer": "ipython3",
   "version": "3.10.9"
  },
  "orig_nbformat": 4,
  "vscode": {
   "interpreter": {
    "hash": "afb734500600fd355917ca529030176ea0ca205570884b88f2f6f7d791fd3fbe"
   }
  }
 },
 "nbformat": 4,
 "nbformat_minor": 2
}
