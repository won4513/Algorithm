{
 "cells": [
  {
   "cell_type": "code",
   "execution_count": 3,
   "metadata": {},
   "outputs": [
    {
     "name": "stdout",
     "output_type": "stream",
     "text": [
      "4\n",
      "[57, 74, 65, 61, 37, 58, 89, 145, 42, 20, 4, 16]\n"
     ]
    }
   ],
   "source": [
    "#2331 \n",
    "a, p = map(int, input().split())\n",
    "\n",
    "ans = [a]\n",
    "\n",
    "while True:\n",
    "    sum = 0\n",
    "    for i in str(ans[-1]):\n",
    "        sum += int(i)**p\n",
    "    \n",
    "    if sum in ans:\n",
    "        break\n",
    "    \n",
    "    ans.append(sum)\n",
    "    \n",
    "print(ans.index(sum))"
   ]
  },
  {
   "cell_type": "code",
   "execution_count": null,
   "metadata": {},
   "outputs": [],
   "source": []
  }
 ],
 "metadata": {
  "kernelspec": {
   "display_name": "base",
   "language": "python",
   "name": "python3"
  },
  "language_info": {
   "codemirror_mode": {
    "name": "ipython",
    "version": 3
   },
   "file_extension": ".py",
   "mimetype": "text/x-python",
   "name": "python",
   "nbconvert_exporter": "python",
   "pygments_lexer": "ipython3",
   "version": "3.9.13"
  },
  "orig_nbformat": 4
 },
 "nbformat": 4,
 "nbformat_minor": 2
}
